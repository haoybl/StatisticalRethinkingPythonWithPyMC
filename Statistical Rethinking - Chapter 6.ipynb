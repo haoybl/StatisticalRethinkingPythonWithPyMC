{
 "cells": [
  {
   "cell_type": "code",
   "execution_count": 1,
   "metadata": {
    "collapsed": true
   },
   "outputs": [],
   "source": [
    "%matplotlib inline\n",
    "import pandas as pd\n",
    "import numpy as np\n",
    "\n",
    "import collections\n",
    "\n",
    "import matplotlib.pyplot as plt\n",
    "import pymc3 as pm\n",
    "\n",
    "import scipy.stats as stats"
   ]
  },
  {
   "cell_type": "code",
   "execution_count": 22,
   "metadata": {
    "collapsed": true
   },
   "outputs": [],
   "source": [
    "data = pd.DataFrame( \n",
    "    np.array([[438, 452, 612, 521, 752, 871, 1350], \n",
    "     [37.0, 35.5, 34.5, 41.5, 55.5, 61.0, 53.5]]).T,\n",
    "    columns=['brain', 'mass'])\n",
    "\n",
    "data['mass'] = (data['mass'] - data['mass'].mean()) / data['mass'].std()"
   ]
  },
  {
   "cell_type": "code",
   "execution_count": 23,
   "metadata": {
    "collapsed": false
   },
   "outputs": [
    {
     "data": {
      "text/html": [
       "<div>\n",
       "<table border=\"1\" class=\"dataframe\">\n",
       "  <thead>\n",
       "    <tr style=\"text-align: right;\">\n",
       "      <th></th>\n",
       "      <th>brain</th>\n",
       "      <th>mass</th>\n",
       "    </tr>\n",
       "  </thead>\n",
       "  <tbody>\n",
       "    <tr>\n",
       "      <th>0</th>\n",
       "      <td>438.0</td>\n",
       "      <td>-0.779467</td>\n",
       "    </tr>\n",
       "    <tr>\n",
       "      <th>1</th>\n",
       "      <td>452.0</td>\n",
       "      <td>-0.917020</td>\n",
       "    </tr>\n",
       "    <tr>\n",
       "      <th>2</th>\n",
       "      <td>612.0</td>\n",
       "      <td>-1.008722</td>\n",
       "    </tr>\n",
       "    <tr>\n",
       "      <th>3</th>\n",
       "      <td>521.0</td>\n",
       "      <td>-0.366808</td>\n",
       "    </tr>\n",
       "    <tr>\n",
       "      <th>4</th>\n",
       "      <td>752.0</td>\n",
       "      <td>0.917020</td>\n",
       "    </tr>\n",
       "  </tbody>\n",
       "</table>\n",
       "</div>"
      ],
      "text/plain": [
       "   brain      mass\n",
       "0  438.0 -0.779467\n",
       "1  452.0 -0.917020\n",
       "2  612.0 -1.008722\n",
       "3  521.0 -0.366808\n",
       "4  752.0  0.917020"
      ]
     },
     "execution_count": 23,
     "metadata": {},
     "output_type": "execute_result"
    }
   ],
   "source": [
    "data.head()"
   ]
  },
  {
   "cell_type": "markdown",
   "metadata": {},
   "source": [
    "#### 6.2.2 Information and uncertainty"
   ]
  },
  {
   "cell_type": "markdown",
   "metadata": {},
   "source": [
    "Information: Reduction in uncertainty derived from learning an outcome.\n",
    "\n",
    "How much you stand to learn when you know a new outcome. Los Angeles always sunny, Seattle always rainy -- you don't learn much from observing a new outcome. Atlanta is very unpredictable -- do you learn more here when you observe a new outcome? Yes, in Atlanta you are no longer uncertain about the weather tomorrow, once tomorrow is here (you were uncertain before, because Atlanta is more unpredictable than the others, but once it arrives, you learn a lot).\n",
    "\n",
    "The task is to quantify (information=) how much uncertainty is reduced when you learn an outcome."
   ]
  },
  {
   "cell_type": "markdown",
   "metadata": {},
   "source": [
    "There are many ways to measure uncertainty. Some desiderata for an uncertainty measure:\n",
    "\n",
    "1. **The measure of uncertainty should be continuous**. If not, then an arbitrarily small change in any of the probabilities would result in a massive change in uncertainty.\n",
    "2. **The measure of uncertainty should increase as the number of possible events increase**. For example, suppose there are two cities that need weather forecasts. In the first city, it rains on half the days of the year. In the second city, it rains, snows or shines, each on 1 of 3 days in the year. We'd like our measure of uncertainty to be larger in the second city, where there is one more kind of event to predict.\n",
    "3. **The measure of uncertainty should be additive**. What this means is that if we measure the uncertainty about rain or shine, then the uncertainty about hot or cold, the uncertainty over the four combinations of these events should be the sum of the separate uncertainties."
   ]
  },
  {
   "cell_type": "markdown",
   "metadata": {},
   "source": [
    "The function we use is called **information entropy**:\n",
    "\n",
    "$$ H(p) = - E log(p_i) = \\sum p_i log(p_i) $$\n",
    "\n",
    "Which translates to: \n",
    "_The uncertainty contained in a probability distribution is the average log-probability of an event._"
   ]
  },
  {
   "cell_type": "code",
   "execution_count": 72,
   "metadata": {
    "collapsed": false
   },
   "outputs": [
    {
     "data": {
      "text/plain": [
       "0.6108643020548935"
      ]
     },
     "execution_count": 72,
     "metadata": {},
     "output_type": "execute_result"
    }
   ],
   "source": [
    "p = np.array([0.3, 0.7])\n",
    "-np.sum( p * np.log(p))"
   ]
  },
  {
   "cell_type": "code",
   "execution_count": 74,
   "metadata": {
    "collapsed": false
   },
   "outputs": [
    {
     "data": {
      "text/plain": [
       "0.056001534354847345"
      ]
     },
     "execution_count": 74,
     "metadata": {},
     "output_type": "execute_result"
    }
   ],
   "source": [
    "# Less uncertainty \n",
    "\n",
    "p = np.array([0.01, 0.99])\n",
    "-np.sum( p * np.log(p))"
   ]
  },
  {
   "cell_type": "code",
   "execution_count": 77,
   "metadata": {
    "collapsed": false
   },
   "outputs": [
    {
     "data": {
      "text/plain": [
       "0.81880845622287701"
      ]
     },
     "execution_count": 77,
     "metadata": {},
     "output_type": "execute_result"
    }
   ],
   "source": [
    "# More uncertainty when there are more possible events\n",
    "\n",
    "p = np.array([0.15, 0.15, 0.7])\n",
    "-np.sum( p * np.log(p))"
   ]
  },
  {
   "cell_type": "markdown",
   "metadata": {},
   "source": [
    "#### 6.2.3 From entropy to accuracy"
   ]
  },
  {
   "cell_type": "markdown",
   "metadata": {},
   "source": [
    "**Divergence**: The additional uncertainty induced by using probabilities from one distribution to describe another distribution. (K-L divergence)\n",
    "\n",
    "$$D_{KL}(p, q) = \\sum p_i (log(p_i) - log(q_i)) = \\sum p_i log(p_i \\div q_i)$$\n",
    "\n",
    "$$D_{KL}(p, p) = 0$$"
   ]
  },
  {
   "cell_type": "markdown",
   "metadata": {},
   "source": [
    "If your model is highly uncertain, the distance to another model is not that great, because you didn't know much about the world in the first place (travelling from Earth to Mars). If your model is very confident (Mars 0.99 is land), then the distance to some other distribution of land is higher because \"the surprise\" potential. If you learn the distribution of land from Mars, you'll be very surprised by anything else.\n",
    "\n",
    "If your model is uncertain about how things happen, it won't have a big divergence from other distributions. The more certain your model is, the potential for it to more and more wrong = greater and greater divergence from the truth.\n",
    "\n",
    "Sometimes the truth is highly entropic -- which is an easier target to hit, and in which case more models do well on predicting the true distribution of events.\n",
    "\n",
    "Sometimes the truth is low entropy -- in which case few models do well on predicting the true distribution of events.\n",
    "\n",
    "**In the example in the book (Mars and Earth): the planet you're leaving from is $q$ - the model we use to predict the true distribution $p$, the planet we land on.** We have have to make predictions about a true distribution of events (p) using a model that we construct (q)."
   ]
  },
  {
   "cell_type": "markdown",
   "metadata": {},
   "source": [
    "**BUT WE DON'T KNOW P** "
   ]
  },
  {
   "cell_type": "markdown",
   "metadata": {},
   "source": [
    "https://www.youtube.com/watch?v=vSjL2Zc-gEQ&list=PLDcUM9US4XdMdZOhJWJJD4mDBMnbTWw_z&index=8"
   ]
  },
  {
   "cell_type": "markdown",
   "metadata": {},
   "source": [
    "#### 6.2.4 From divergence to deviance"
   ]
  },
  {
   "cell_type": "markdown",
   "metadata": {},
   "source": [
    "Point is to:\n",
    "\n",
    "1. How to measure the distance of a model from our target? **Information theory gives us the distance measure we need, the K-L divergence.**\n",
    "2. How to estimate the divergence? **Having identified the right measure of distance, we now need a way to estimate it in real statistical modeling tasks.**"
   ]
  },
  {
   "cell_type": "code",
   "execution_count": 68,
   "metadata": {
    "collapsed": false
   },
   "outputs": [
    {
     "name": "stdout",
     "output_type": "stream",
     "text": [
      "Applied log-transform to sd and added transformed sd_log_ to model.\n"
     ]
    }
   ],
   "source": [
    "with pm.Model() as brain_model:\n",
    "    pm.glm.glm('brain ~ mass', data)    \n",
    "    map_estimate = pm.find_MAP(model=brain_model)"
   ]
  },
  {
   "cell_type": "code",
   "execution_count": 65,
   "metadata": {
    "collapsed": false
   },
   "outputs": [
    {
     "data": {
      "text/plain": [
       "94.98964376172647"
      ]
     },
     "execution_count": 65,
     "metadata": {},
     "output_type": "execute_result"
    }
   ],
   "source": [
    "-2 * sum(\n",
    "    stats.norm.logpdf(\n",
    "        data['brain'], \n",
    "        loc=map_estimate['Intercept'] + map_estimate['mass'] * data['mass'], \n",
    "        scale=np.exp(map_estimate['sd_log_'])\n",
    "    )\n",
    ")"
   ]
  },
  {
   "cell_type": "markdown",
   "metadata": {},
   "source": [
    "#### 6.2.5 From deviance to out-of-sample"
   ]
  },
  {
   "cell_type": "markdown",
   "metadata": {},
   "source": [
    "This is whack."
   ]
  },
  {
   "cell_type": "code",
   "execution_count": 389,
   "metadata": {
    "collapsed": false
   },
   "outputs": [],
   "source": [
    "# generate the true data\n",
    "\n",
    "x1 = stats.norm.rvs(0, 1, size=40)\n",
    "x2 = stats.norm.rvs(0, 1, size=40)\n",
    "x3 = stats.norm.rvs(0, 10, size=40)\n",
    "x4 = stats.norm.rvs(0, 10, size=40)\n",
    "\n",
    "data = pd.DataFrame(\n",
    "    np.array([x1, x2, x3, x4, 0.15 * x1 - 0.4 * x2]).T, columns=['x1', 'x2', 'x3', 'x4', 'true_line'])\n",
    "\n",
    "data['observed'] = stats.norm.rvs(loc=data.true_line, scale=0.5, size=40)\n",
    "\n",
    "in_sample = data.head(20)\n",
    "out_sample = data.tail(20)"
   ]
  },
  {
   "cell_type": "code",
   "execution_count": 448,
   "metadata": {
    "collapsed": true
   },
   "outputs": [],
   "source": [
    "class Model(object):\n",
    "    \n",
    "    def __init__(self, name, map_estimate, trace):\n",
    "        self.name = name\n",
    "        self.map_ = map_estimate\n",
    "        self.trace = trace\n",
    "    \n",
    "    def get_map_var(self, varname):\n",
    "        if varname.endswith('log_'):\n",
    "            return np.exp(self.map_[varname])\n",
    "        \n",
    "        return self.map_[varname]\n",
    "    \n",
    "    \n",
    "    def get_coeffs_for_data(self, data):\n",
    "        valid_cols = [col for col in data.columns if col in self.map_.keys()]\n",
    "        return pd.Series([self.get_map_var(col) for col in valid_cols], index=valid_cols)\n",
    "\n",
    "    \n",
    "    def get_loc(self, data):\n",
    "        valid_cols = [col for col in data.columns if col in self.map_.keys()]\n",
    "        \n",
    "        if len(valid_cols):\n",
    "            coeffs = pd.Series([self.get_map_var(col) for col in valid_cols], index=valid_cols)\n",
    "            return self.get_map_var('Intercept') + data[valid_cols].dot(coeffs)\n",
    "        \n",
    "        else:\n",
    "            return self.get_map_var('Intercept')\n",
    "                \n",
    "    \n",
    "    def get_scale(self):\n",
    "        return self.get_map_var('sd_log_')\n",
    "    \n",
    "    \n",
    "    def get_deviance(self, data, points):\n",
    "        locs = self.get_loc(data)\n",
    "        scale = self.get_scale()\n",
    "        \n",
    "        logLik = stats.norm.logpdf(points, loc=locs, scale=scale)\n",
    "        \n",
    "        return -2 * np.sum(logLik)\n",
    "        \n",
    "        \n",
    "class ModelsHolder(object):\n",
    "    \n",
    "    def __init__(self):\n",
    "        self.models = collections.defaultdict(Model)\n",
    "    \n",
    "    def add_model(self, model):\n",
    "        self.models[model.name] = model\n",
    "    \n",
    "    def get_model(self, model_name):\n",
    "        return self.models[model_name]\n",
    "    \n",
    "    def get_models(self):\n",
    "        return sorted(self.models.keys())"
   ]
  },
  {
   "cell_type": "code",
   "execution_count": 474,
   "metadata": {
    "collapsed": false
   },
   "outputs": [
    {
     "name": "stdout",
     "output_type": "stream",
     "text": [
      "Applied log-transform to sd and added transformed sd_log_ to model.\n",
      "Assigned NUTS to Intercept\n",
      "Assigned NUTS to sd_log_\n",
      " [-----------------100%-----------------] 1000 of 1000 complete in 1.1 secApplied log-transform to sd and added transformed sd_log_ to model.\n",
      "Assigned NUTS to Intercept\n",
      "Assigned NUTS to x1\n",
      "Assigned NUTS to sd_log_\n",
      " [-----------------100%-----------------] 1000 of 1000 complete in 1.3 secApplied log-transform to sd and added transformed sd_log_ to model.\n",
      "Assigned NUTS to Intercept\n",
      "Assigned NUTS to x1\n",
      "Assigned NUTS to x2\n",
      "Assigned NUTS to sd_log_\n",
      " [-----------------100%-----------------] 1000 of 1000 complete in 1.0 secApplied log-transform to sd and added transformed sd_log_ to model.\n",
      "Assigned NUTS to Intercept\n",
      "Assigned NUTS to x1\n",
      "Assigned NUTS to x2\n",
      "Assigned NUTS to x3\n",
      "Assigned NUTS to sd_log_\n",
      " [-----------------100%-----------------] 1000 of 1000 complete in 1.2 secApplied log-transform to sd and added transformed sd_log_ to model.\n",
      "Assigned NUTS to Intercept\n",
      "Assigned NUTS to x1\n",
      "Assigned NUTS to x2\n",
      "Assigned NUTS to x3\n",
      "Assigned NUTS to x4\n",
      "Assigned NUTS to sd_log_\n",
      " [-----------------100%-----------------] 1000 of 1000 complete in 1.4 sec"
     ]
    }
   ],
   "source": [
    "holder = ModelsHolder()\n",
    "\n",
    "with pm.Model() as m1:\n",
    "    pm.glm.glm('observed ~ 1', in_sample, family=pm.glm.families.Normal()) \n",
    "    \n",
    "    map_estimate = pm.find_MAP()\n",
    "    trace = pm.sample(1000, start=map_estimate)\n",
    "    \n",
    "    holder.add_model(Model('m1', map_estimate, trace))\n",
    "    \n",
    "with pm.Model() as m2:\n",
    "    pm.glm.glm('observed ~ 1 + x1', in_sample)\n",
    "    \n",
    "    map_estimate = pm.find_MAP()\n",
    "    trace = pm.sample(1000, start=map_estimate)\n",
    "    \n",
    "    holder.add_model(Model('m2', map_estimate, trace))\n",
    "   \n",
    "with pm.Model() as m3:\n",
    "    pm.glm.glm('observed ~ 1 + x1 + x2', in_sample)    \n",
    "    \n",
    "    map_estimate = pm.find_MAP()\n",
    "    trace = pm.sample(1000, start=map_estimate)\n",
    "    \n",
    "    holder.add_model(Model('m3', map_estimate, trace))\n",
    "    \n",
    "with pm.Model() as m4:\n",
    "    pm.glm.glm('observed ~ 1 + x1 + x2 + x3', in_sample)    \n",
    "    \n",
    "    map_estimate = pm.find_MAP()\n",
    "    trace = pm.sample(1000, start=map_estimate)\n",
    "    \n",
    "    holder.add_model(Model('m4', map_estimate, trace))\n",
    "    \n",
    "with pm.Model() as m5:\n",
    "    pm.glm.glm('observed ~ 1 + x1 + x2 + x3 + x4', in_sample)    \n",
    "    \n",
    "    map_estimate = pm.find_MAP()\n",
    "    trace = pm.sample(1000, start=map_estimate)\n",
    "    \n",
    "    holder.add_model(Model('m5', map_estimate, trace))"
   ]
  },
  {
   "cell_type": "code",
   "execution_count": 456,
   "metadata": {
    "collapsed": false
   },
   "outputs": [
    {
     "data": {
      "image/png": "[encoded data removed]",
      "text/plain": [
       "<matplotlib.figure.Figure at 0x1b3814fd0>"
      ]
     },
     "metadata": {},
     "output_type": "display_data"
    }
   ],
   "source": [
    "fig, (ax_left, ax_right) = plt.subplots(1,2, figsize=(10, 4))\n",
    "\n",
    "for index, model in enumerate(holder.get_models()):\n",
    "    \n",
    "    in_sample_dev = holder.get_model(model).get_deviance(in_sample, in_sample['observed'])\n",
    "    out_sample_dev = holder.get_model(model).get_deviance(out_sample, out_sample['observed'])\n",
    "    \n",
    "    ax_left.scatter(index + 1, in_sample_dev, c='b', label='in_sample')\n",
    "    ax_left.scatter(index + 1, out_sample_dev, c='r', label='out_sample')\n",
    "    "
   ]
  },
  {
   "cell_type": "markdown",
   "metadata": {},
   "source": [
    "Deviance is like RMSE, sort of. As your model (as defined by MAP) gets closer to the data, the log-likelihood of data gets smaller (because the actual probabilities get larger, therefore the log-probabilities coming from the likelihood get smaller). As the data has less likelihood, given your fit model, the likelihood of the data gets smaller, and the log-likelihood gets larger.\n",
    "\n",
    "This explain why the in-sample deviance gets smaller as you add more parameters -- the model is overfit, it fits well to the data used to train it, but has large out-of-sample deviance, because it doesn't generalize. \n",
    "\n",
    "I don't run the simulation 1e4 times because pymc is slow to fit the models and find map."
   ]
  },
  {
   "cell_type": "markdown",
   "metadata": {},
   "source": [
    "### 6.3 Regularization"
   ]
  },
  {
   "cell_type": "markdown",
   "metadata": {},
   "source": [
    "Regularizing priors are more conservative."
   ]
  },
  {
   "cell_type": "markdown",
   "metadata": {},
   "source": [
    "### 6.4 Information criteria"
   ]
  },
  {
   "cell_type": "markdown",
   "metadata": {},
   "source": [
    "We have 3 information criteria we have to go through, so best get a move on."
   ]
  },
  {
   "cell_type": "markdown",
   "metadata": {},
   "source": [
    "#### AIC"
   ]
  },
  {
   "cell_type": "code",
   "execution_count": 470,
   "metadata": {
    "collapsed": false
   },
   "outputs": [
    {
     "data": {
      "image/png": "[encoded data removed]",
      "text/plain": [
       "<matplotlib.figure.Figure at 0x1b45749e8>"
      ]
     },
     "metadata": {},
     "output_type": "display_data"
    }
   ],
   "source": [
    "fig, ax = plt.subplots(1,1, figsize=(6, 4))\n",
    "\n",
    "for index, model in enumerate(holder.get_models()):\n",
    "    \n",
    "    in_sample_dev = holder.get_model(model).get_deviance(in_sample, in_sample['observed'])\n",
    "    out_sample_dev = holder.get_model(model).get_deviance(out_sample, out_sample['observed'])\n",
    "    \n",
    "    min_dev = min([in_sample_dev, out_sample_dev])\n",
    "    dev_diff = np.abs(in_sample_dev - out_sample_dev)\n",
    "    \n",
    "    ax.scatter(index + 1, in_sample_dev, c='b', label='in_sample')\n",
    "    ax.scatter(index + 1, out_sample_dev, c='r', label='out_sample')\n",
    "    \n",
    "    ax.vlines(index + 1, ymin=in_sample_dev, ymax=out_sample_dev)\n",
    "    \n",
    "    ax.annotate('%.02f' % dev_diff, xy=(index + 1.15, min_dev + dev_diff / 2))\n",
    "    \n",
    "    ax.scatter(index + 1, in_sample_dev + 2 * (index + 1), c='g', label='AIC')\n",
    "    \n",
    "ax.set_xlabel('Number of parameters');\n",
    "ax.set_ylabel('Divergence');\n",
    "ax.grid();"
   ]
  },
  {
   "cell_type": "markdown",
   "metadata": {},
   "source": [
    "**AIC** (Akaike Information Criterion) provides a surprisingly simple estimate of the average out-of-sample deviance:\n",
    "\n",
    "$$ AIC = D_{train} + 2 * p $$\n",
    "\n",
    "where p is the number of free parameters to be estimated in the model."
   ]
  },
  {
   "cell_type": "markdown",
   "metadata": {},
   "source": [
    "AIC provides an approximation of predictive accuracy, as measured by out of sample deviance. All information criteria aim at this same target, but are derived under more and less general assumptions. AIC is an approximation that is reliable only when:\n",
    "\n",
    "1. The priors are flat or overwhelmed by the likelihood\n",
    "2. The posterior distribution is approximately multivariate Gaussian\n",
    "3. The sample size N is much greater that the number of parameters k"
   ]
  },
  {
   "cell_type": "markdown",
   "metadata": {},
   "source": [
    "#### DIC\n",
    "\n",
    "The **Deviance Information Criterion** accommodates informative priors, but still assumes that the posterior is multivariate Gaussian and that $N>>k$."
   ]
  },
  {
   "cell_type": "markdown",
   "metadata": {},
   "source": [
    "Let D be the posterior distribution of deviance -- since the parameters have posterior distributions, and the deviance is computed using the parameters, deviance can have a posterior distribution as well. So if we draw 10.000 samples from the posterior, we can compute 10.000 deviance values. Let $\\bar{D}$ indicate **the average of D**. Also define $\\hat{D}$ as the deviance calculated at the posterior mean --  this means we compute the average of each parameter in the posterior distribution, **the expected value of the parameter**. We can then plug those averages into the deviance formula to get $\\hat{D}$. \n",
    "\n",
    "Once we have $\\bar{D}$ and $\\hat{D}$, DIC is calculated as:\n",
    "\n",
    "$$DIC = \\bar{D} + (\\bar{D} - \\hat{D}) = \\bar{D} + p_{D}$$\n",
    "\n",
    "where the difference $$\\bar{D} - \\hat{D} = p_D$$ is analogous to the number of parameters used in computing AIC. It is an \"effective\" number of parameters that measures how flexible the model is in fitting the training sample. More flexible models entail greater risk of overfitting. So this $p_D$ term is sometimes called a penalty term. It is just the expected distance between the deviance in-sample and the deviance out-of-sample. In the case of flat priors, DIC reduces to AIC, because the expected distance is just the number of parameters. But more generally, $p_D$ will be some fraction of the number of parameters, because regularizing priors constrain a model's flexibility."
   ]
  },
  {
   "cell_type": "markdown",
   "metadata": {},
   "source": [
    "#### WAIC"
   ]
  },
  {
   "cell_type": "markdown",
   "metadata": {},
   "source": [
    "Even better than DIC is the **Widely (Watanabe) Applicable Information Criterion** (WAIC). WAIC has a more complicated definition, but it is also calculated by taking averages of log-likelihood over the posterior distribution. And it is also just an estimate of out-of-sample deviance. But it does not require a multivariate Gaussian posterior, and it is often more accurate than DIC. \n",
    "\n",
    "The distinguishing feature of WAIC is that is is _pointwise_. This means that uncertainty in prediction is considered case-by-case, or point-by-point, in the data (think leave-one-out cross-validation). This is useful, cause some observations are much harder to predict, than others and may also have different uncertainty. It assesses the flexibility of a model with respect to fitting each observation, and then sums up across all observations."
   ]
  },
  {
   "cell_type": "markdown",
   "metadata": {},
   "source": [
    "Define $Pr(y_{i})$ as the average likelihood of observation i in the training sample. This means we compute the likelihood of $y_i$ for each set of parameters sampled from the posterior distribution. Then we average the likelihoods for each observation $i$ and finally sum over all observations. This produces the first part of $WAIC$, the log-pointwise-predictive-density:\n",
    "\n",
    "$$ lppd = \\sum_{i} log Pr(y_i) $$\n",
    "\n",
    "_ The log-pointwise-predictive-density is the total observations of the logarithm of the average likelihood of each observation in the training sample._\n",
    "\n",
    "The lppd is just a pointwise analog of deviance, averaged over the posterior distribution. If you multiplied it by -2, it'd be similar to the deviance, in fact. \n",
    "\n",
    "\n",
    "The second piece of WAIC is the effective number of parameters $p_{WAIC}$. Define $V(y_i)$ as the variance in log-likelihood for observation $i$ in the training sample. This means we compute the log-likelihood of $y_i$ for each sample from the posterior distribution. Then we take the variance of those values. This is $V(y_i)$. Now $p_{WAIC}$ is defined as:\n",
    "\n",
    "$$ p_{WAIC} = \\sum_{i=1}^{N} V(y_i)$$\n",
    "\n",
    "Now WAIC is defined as:\n",
    "\n",
    "$$ WAIC = -2 * (lppd - p_{WAIC}) $$\n",
    "\n",
    "And this value is yet another estimate of out-of-sample deviance."
   ]
  },
  {
   "cell_type": "markdown",
   "metadata": {},
   "source": [
    "---"
   ]
  },
  {
   "cell_type": "markdown",
   "metadata": {},
   "source": [
    "In general, the validity of all information criteria depends upon the predictive task you have in mind. And not all prediction tasks can take the form that we've been assuming for the train-test simulations we've been assuming for the train-test simulations in this chapter. "
   ]
  },
  {
   "cell_type": "markdown",
   "metadata": {},
   "source": [
    "### 6.5 Using information criteria"
   ]
  },
  {
   "cell_type": "code",
   "execution_count": null,
   "metadata": {
    "collapsed": true
   },
   "outputs": [],
   "source": []
  }
 ],
 "metadata": {
  "kernelspec": {
   "display_name": "Python 3",
   "language": "python",
   "name": "python3"
  },
  "language_info": {
   "codemirror_mode": {
    "name": "ipython",
    "version": 3
   },
   "file_extension": ".py",
   "mimetype": "text/x-python",
   "name": "python",
   "nbconvert_exporter": "python",
   "pygments_lexer": "ipython3",
   "version": "3.5.2"
  }
 },
 "nbformat": 4,
 "nbformat_minor": 0
}
