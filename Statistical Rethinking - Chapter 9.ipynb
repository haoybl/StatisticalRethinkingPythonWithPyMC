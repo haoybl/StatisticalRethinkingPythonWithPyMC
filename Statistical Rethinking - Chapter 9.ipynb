{
 "cells": [
  {
   "cell_type": "markdown",
   "metadata": {},
   "source": [
    "# Big Entropy and the Generalized Linear Model"
   ]
  },
  {
   "cell_type": "code",
   "execution_count": 1,
   "metadata": {
    "collapsed": true
   },
   "outputs": [],
   "source": [
    "%matplotlib inline\n",
    "import pandas as pd\n",
    "import numpy as np\n",
    "\n",
    "import collections\n",
    "\n",
    "import matplotlib.pyplot as plt\n",
    "import pymc3 as pm\n",
    "\n",
    "import scipy.stats as stats"
   ]
  },
  {
   "cell_type": "markdown",
   "metadata": {},
   "source": [
    "Why choose the distributions with the biggest entropy? \n",
    "\n",
    "1. The widest distribution and least informative. In the context of likelihoods = selecting the distribution we'd get by counting up all the ways outcomes could arise, consistent with constraints on the outcome variable. In both cases, the resulting distribution embodies the least information while remaining true to the information we've provided.\n",
    "2. Nature tends to produce empirical distributions that have high entropy. \n",
    "3. Regardless of why it works, it works. There is no guarantee that logic in the small world will work in the big world, even if the mathematics works."
   ]
  },
  {
   "cell_type": "markdown",
   "metadata": {},
   "source": [
    "Information entropy: \n",
    "$$ H(p) = - \\sum_{i} p_i log p_i $$"
   ]
  },
  {
   "cell_type": "markdown",
   "metadata": {},
   "source": [
    "The principle of maximum entropy applies this measure of uncertainty to the problem of choosing among probability distributions.\n",
    "\n",
    "``` The distribution that can happen the most ways is also the distribution with the biggest information entropy. The distribution with the biggest entropy is the most conservative distribution that obeys its constraints. ```"
   ]
  },
  {
   "cell_type": "code",
   "execution_count": 11,
   "metadata": {
    "collapsed": false
   },
   "outputs": [],
   "source": [
    "p = np.array(\n",
    "    [[0, 0, 10, 0, 0], # pA\n",
    "    [0, 1, 8, 1, 0], # pB\n",
    "    [0, 2, 6, 2, 0], # pC\n",
    "    [1, 2, 4, 2, 1], # pD\n",
    "    [2, 2, 2, 2, 2]] # pE\n",
    ")"
   ]
  },
  {
   "cell_type": "code",
   "execution_count": 17,
   "metadata": {
    "collapsed": false
   },
   "outputs": [],
   "source": [
    "p_norm = np.apply_along_axis(lambda x: x / sum(x), arr=p, axis=1)"
   ]
  },
  {
   "cell_type": "markdown",
   "metadata": {},
   "source": [
    "Since these are probability distributions, we can compute the information entropy of each."
   ]
  },
  {
   "cell_type": "code",
   "execution_count": 28,
   "metadata": {
    "collapsed": true
   },
   "outputs": [],
   "source": [
    "def entropy(arr):\n",
    "    return - sum([ val * np.log(val) if val > 0 else 0 for val in arr])"
   ]
  },
  {
   "cell_type": "code",
   "execution_count": 27,
   "metadata": {
    "collapsed": false
   },
   "outputs": [
    {
     "data": {
      "text/plain": [
       "array([-0.        ,  0.63903186,  0.95027054,  1.47080848,  1.60943791])"
      ]
     },
     "execution_count": 27,
     "metadata": {},
     "output_type": "execute_result"
    }
   ],
   "source": [
    "np.apply_along_axis(lambda x: entropy(x), arr=p_norm, axis=1)"
   ]
  },
  {
   "cell_type": "markdown",
   "metadata": {},
   "source": [
    "So distribution E, which can be realized by far the greatest number of ways, also has the biggest entropy, which is not a coincidence.\n",
    "\n",
    "** Information entropy is a way of counting how many unique arrangements correspond to a distribution. **\n",
    "\n",
    "This is useful because the distribution that can happen the greatest number of ways is the most plausible distribution. Call this the maximum entropy distribution."
   ]
  },
  {
   "cell_type": "code",
   "execution_count": null,
   "metadata": {
    "collapsed": true
   },
   "outputs": [],
   "source": [
    "\n"
   ]
  }
 ],
 "metadata": {
  "kernelspec": {
   "display_name": "Python 3",
   "language": "python",
   "name": "python3"
  },
  "language_info": {
   "codemirror_mode": {
    "name": "ipython",
    "version": 3
   },
   "file_extension": ".py",
   "mimetype": "text/x-python",
   "name": "python",
   "nbconvert_exporter": "python",
   "pygments_lexer": "ipython3",
   "version": "3.5.2"
  }
 },
 "nbformat": 4,
 "nbformat_minor": 0
}
