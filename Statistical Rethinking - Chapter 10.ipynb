{
 "cells": [
  {
   "cell_type": "markdown",
   "metadata": {},
   "source": [
    "#### Chapter 10: Counting and Classification"
   ]
  },
  {
   "cell_type": "code",
   "execution_count": 1,
   "metadata": {
    "collapsed": false
   },
   "outputs": [],
   "source": [
    "%matplotlib inline\n",
    "import pandas as pd\n",
    "import numpy as np\n",
    "\n",
    "import collections\n",
    "\n",
    "import matplotlib.pyplot as plt\n",
    "import pymc3 as pm\n",
    "\n",
    "import scipy.stats as stats"
   ]
  },
  {
   "cell_type": "markdown",
   "metadata": {},
   "source": [
    "There are two experimental conditions:\n",
    "1. _partner_ condition - chimp standing at other end\n",
    "2. _control_ condition - nobody standing at other end\n",
    "\n",
    "Two counterbalancing treatments alternate which side is social:\n",
    "* Left is prosocial option\n",
    "* Right is prosocial option\n",
    "\n",
    "**The motivating question is whether a focal chimp chooses the prosocial option more often when another animal is present.**\n",
    "\n",
    "In terms of linear model, we want to estimate the interaction between condition (presence or absence of another animal) and option (which side is prosocial). \n",
    "\n"
   ]
  },
  {
   "cell_type": "code",
   "execution_count": 2,
   "metadata": {
    "collapsed": true
   },
   "outputs": [],
   "source": [
    "data = pd.read_csv('./rethinking/data/chimpanzees.csv', sep=';')"
   ]
  },
  {
   "cell_type": "code",
   "execution_count": 3,
   "metadata": {
    "collapsed": false
   },
   "outputs": [
    {
     "data": {
      "text/html": [
       "<div>\n",
       "<table border=\"1\" class=\"dataframe\">\n",
       "  <thead>\n",
       "    <tr style=\"text-align: right;\">\n",
       "      <th></th>\n",
       "      <th>actor</th>\n",
       "      <th>recipient</th>\n",
       "      <th>condition</th>\n",
       "      <th>block</th>\n",
       "      <th>trial</th>\n",
       "      <th>prosoc_left</th>\n",
       "      <th>chose_prosoc</th>\n",
       "      <th>pulled_left</th>\n",
       "    </tr>\n",
       "  </thead>\n",
       "  <tbody>\n",
       "    <tr>\n",
       "      <th>0</th>\n",
       "      <td>1</td>\n",
       "      <td>NaN</td>\n",
       "      <td>0</td>\n",
       "      <td>1</td>\n",
       "      <td>2</td>\n",
       "      <td>0</td>\n",
       "      <td>1</td>\n",
       "      <td>0</td>\n",
       "    </tr>\n",
       "    <tr>\n",
       "      <th>1</th>\n",
       "      <td>1</td>\n",
       "      <td>NaN</td>\n",
       "      <td>0</td>\n",
       "      <td>1</td>\n",
       "      <td>4</td>\n",
       "      <td>0</td>\n",
       "      <td>0</td>\n",
       "      <td>1</td>\n",
       "    </tr>\n",
       "    <tr>\n",
       "      <th>2</th>\n",
       "      <td>1</td>\n",
       "      <td>NaN</td>\n",
       "      <td>0</td>\n",
       "      <td>1</td>\n",
       "      <td>6</td>\n",
       "      <td>1</td>\n",
       "      <td>0</td>\n",
       "      <td>0</td>\n",
       "    </tr>\n",
       "    <tr>\n",
       "      <th>3</th>\n",
       "      <td>1</td>\n",
       "      <td>NaN</td>\n",
       "      <td>0</td>\n",
       "      <td>1</td>\n",
       "      <td>8</td>\n",
       "      <td>0</td>\n",
       "      <td>1</td>\n",
       "      <td>0</td>\n",
       "    </tr>\n",
       "    <tr>\n",
       "      <th>4</th>\n",
       "      <td>1</td>\n",
       "      <td>NaN</td>\n",
       "      <td>0</td>\n",
       "      <td>1</td>\n",
       "      <td>10</td>\n",
       "      <td>1</td>\n",
       "      <td>1</td>\n",
       "      <td>1</td>\n",
       "    </tr>\n",
       "  </tbody>\n",
       "</table>\n",
       "</div>"
      ],
      "text/plain": [
       "   actor  recipient  condition  block  trial  prosoc_left  chose_prosoc  \\\n",
       "0      1        NaN          0      1      2            0             1   \n",
       "1      1        NaN          0      1      4            0             0   \n",
       "2      1        NaN          0      1      6            1             0   \n",
       "3      1        NaN          0      1      8            0             1   \n",
       "4      1        NaN          0      1     10            1             1   \n",
       "\n",
       "   pulled_left  \n",
       "0            0  \n",
       "1            1  \n",
       "2            0  \n",
       "3            0  \n",
       "4            1  "
      ]
     },
     "execution_count": 3,
     "metadata": {},
     "output_type": "execute_result"
    }
   ],
   "source": [
    "data.head()"
   ]
  },
  {
   "cell_type": "markdown",
   "metadata": {},
   "source": [
    "* `pulled_left` - outcome to predict: 0 or 1 indicator if the focal animal pulled the left-hand lever. \n",
    "* `prosoc_left` - predictor variable: 0 or 1 indicator that the left-hand level was (1) attached or (0) not attached to the prosocial option.\n",
    "* `condition` - predictor variable: 0 or 1 indicator that there (1) was an animal on the other side, and (0) if there wasn't"
   ]
  },
  {
   "cell_type": "markdown",
   "metadata": {},
   "source": [
    "$$L_i \\sim Binomial(1, p_i)$$\n",
    "$$logit(p_i) = \\alpha + (\\beta_P + \\beta_{PC}C_i)P_i$$\n",
    "$$\\alpha \\sim Normal(0, 10)$$\n",
    "$$\\beta_P \\sim Normal(0, 10)$$\n",
    "$$\\beta_{RC} \\sim Normal(0, 10)$$"
   ]
  },
  {
   "cell_type": "markdown",
   "metadata": {},
   "source": [
    "* $L_i$ indicates `pulled_left`\n",
    "* $P$ indicates `prosoc_left`\n",
    "* $C$ indicates `condition`"
   ]
  },
  {
   "cell_type": "code",
   "execution_count": 4,
   "metadata": {
    "collapsed": false
   },
   "outputs": [
    {
     "data": {
      "text/html": [
       "<div>\n",
       "<table border=\"1\" class=\"dataframe\">\n",
       "  <thead>\n",
       "    <tr style=\"text-align: right;\">\n",
       "      <th></th>\n",
       "      <th>pulled_left</th>\n",
       "      <th>prosoc_left</th>\n",
       "      <th>condition</th>\n",
       "    </tr>\n",
       "  </thead>\n",
       "  <tbody>\n",
       "    <tr>\n",
       "      <th>0</th>\n",
       "      <td>0</td>\n",
       "      <td>0</td>\n",
       "      <td>0</td>\n",
       "    </tr>\n",
       "    <tr>\n",
       "      <th>1</th>\n",
       "      <td>1</td>\n",
       "      <td>0</td>\n",
       "      <td>0</td>\n",
       "    </tr>\n",
       "    <tr>\n",
       "      <th>2</th>\n",
       "      <td>0</td>\n",
       "      <td>1</td>\n",
       "      <td>0</td>\n",
       "    </tr>\n",
       "    <tr>\n",
       "      <th>3</th>\n",
       "      <td>0</td>\n",
       "      <td>0</td>\n",
       "      <td>0</td>\n",
       "    </tr>\n",
       "    <tr>\n",
       "      <th>4</th>\n",
       "      <td>1</td>\n",
       "      <td>1</td>\n",
       "      <td>0</td>\n",
       "    </tr>\n",
       "  </tbody>\n",
       "</table>\n",
       "</div>"
      ],
      "text/plain": [
       "   pulled_left  prosoc_left  condition\n",
       "0            0            0          0\n",
       "1            1            0          0\n",
       "2            0            1          0\n",
       "3            0            0          0\n",
       "4            1            1          0"
      ]
     },
     "execution_count": 4,
     "metadata": {},
     "output_type": "execute_result"
    }
   ],
   "source": [
    "data[['pulled_left', 'prosoc_left', 'condition']].head()"
   ]
  },
  {
   "cell_type": "markdown",
   "metadata": {},
   "source": [
    "Two other models to compare with:\n",
    "\n",
    "$$L_i \\sim Binomial(1, p_i)$$\n",
    "$$logit(p_i) = \\alpha$$\n",
    "$$\\alpha \\sim Normal(0, 10)$$\n",
    "\n",
    "--- \n",
    "\n",
    "$$L_i \\sim Binomial(1, p_i)$$\n",
    "$$logit(p_i) = \\alpha + \\beta_P P_i$$\n",
    "$$\\alpha \\sim Normal(0, 10)$$\n",
    "$$\\beta_P \\sim Normal(0, 10)$$"
   ]
  },
  {
   "cell_type": "code",
   "execution_count": 5,
   "metadata": {
    "collapsed": false
   },
   "outputs": [
    {
     "name": "stderr",
     "output_type": "stream",
     "text": [
      "100%|██████████| 1000/1000 [00:00<00:00, 2438.38it/s]\n"
     ]
    }
   ],
   "source": [
    "with pm.Model() as m101:\n",
    "    \n",
    "    alpha = pm.Normal('alpha', mu=0, sd=10)\n",
    "    p_i = pm.Deterministic('p_i', np.exp(alpha) / (1 + np.exp(alpha)))\n",
    "    L_i = pm.Binomial('L_i', 1, p_i, observed=data['pulled_left'])\n",
    "    \n",
    "    m101_map = pm.find_MAP(model=m101)\n",
    "    m101_traces = pm.sample(1000)"
   ]
  },
  {
   "cell_type": "code",
   "execution_count": 6,
   "metadata": {
    "collapsed": false
   },
   "outputs": [
    {
     "data": {
      "text/plain": [
       "{'alpha': array(0.32014145398132277)}"
      ]
     },
     "execution_count": 6,
     "metadata": {},
     "output_type": "execute_result"
    }
   ],
   "source": [
    "m101_map"
   ]
  },
  {
   "cell_type": "markdown",
   "metadata": {},
   "source": [
    "Now to interpret the estimate for $\\alpha$, remember that the parameters in the logistic regression are on the scale of log-odds. To get them back onto the probability scale, we have to use the inverse link function. In this case, the inverse link is logistic.\n",
    "\n",
    "In this case:\n",
    "$$p_i = \\frac{e^{\\alpha}}{1 + e^{\\alpha}}$$"
   ]
  },
  {
   "cell_type": "code",
   "execution_count": 7,
   "metadata": {
    "collapsed": false
   },
   "outputs": [
    {
     "data": {
      "text/plain": [
       "0.57935872518109255"
      ]
     },
     "execution_count": 7,
     "metadata": {},
     "output_type": "execute_result"
    }
   ],
   "source": [
    "m101_alpha = m101_map['alpha']\n",
    "\n",
    "np.exp(m101_alpha) / (1 + np.exp(m101_alpha))"
   ]
  },
  {
   "cell_type": "markdown",
   "metadata": {},
   "source": [
    "So the above summary implies that there is about $\\sim$ 0.58 probability of left lever being pulled. "
   ]
  },
  {
   "cell_type": "code",
   "execution_count": 8,
   "metadata": {
    "collapsed": false
   },
   "outputs": [
    {
     "name": "stderr",
     "output_type": "stream",
     "text": [
      "100%|██████████| 1000/1000 [00:01<00:00, 965.60it/s]\n",
      "100%|██████████| 1000/1000 [00:01<00:00, 569.93it/s]\n"
     ]
    }
   ],
   "source": [
    "with pm.Model() as m102:\n",
    "    \n",
    "    alpha = pm.Normal('alpha', mu=0, sd=10)\n",
    "    beta_p = pm.Normal('beta_p', mu=0, sd=10)\n",
    "    \n",
    "    params = alpha + beta_p * data['prosoc_left']\n",
    "    \n",
    "    p_i = pm.Deterministic('p_i', np.exp(params) / (1 + np.exp(params)))\n",
    "    L_i = pm.Binomial('L_i', 1, p_i, observed=data['pulled_left'])\n",
    "    \n",
    "    m102_map = pm.find_MAP()\n",
    "    m102_traces = pm.sample(1000)\n",
    "\n",
    "    \n",
    "with pm.Model() as m103:\n",
    "    \n",
    "    alpha = pm.Normal('alpha', mu=0, sd=10)\n",
    "    beta_p = pm.Normal('beta_p', mu=0, sd=10)\n",
    "    beta_pc = pm.Normal('beta_pc', mu=0, sd=10)\n",
    "    \n",
    "    params = alpha + (beta_p + beta_pc * data['condition']) * data['prosoc_left']\n",
    "    \n",
    "    p_i = pm.Deterministic('p_i', np.exp(params) / (1 + np.exp(params)))\n",
    "    L_i = pm.Binomial('L_i', 1, p_i, observed=data['pulled_left'])\n",
    "    \n",
    "    m103_map = pm.find_MAP()\n",
    "    m103_traces = pm.sample(1000)"
   ]
  },
  {
   "cell_type": "code",
   "execution_count": 9,
   "metadata": {
    "collapsed": false
   },
   "outputs": [],
   "source": [
    "class ComparableModel(object): \n",
    "    \n",
    "    def __init__(self, name, model, traces):\n",
    "        self.name = name\n",
    "        self.model = model\n",
    "        self.traces = traces\n",
    "        \n",
    "        self.waic, self.waic_se, self.n_eff_params = pm.waic(self.traces, self.model, n_eff=True)\n",
    "        \n",
    "    \n",
    "class ModelComparator(object):\n",
    "    \n",
    "    \n",
    "    def __init__(self, models):\n",
    "        self.models = sorted(models, key=lambda x: x.waic, reverse=False)\n",
    "        \n",
    "    def to_df(self):\n",
    "        \n",
    "        self.comparison_df = pd.DataFrame(columns=['Model Name', 'pWAIC', 'WAIC', 'SE'])\n",
    "        \n",
    "        for model in self.models:\n",
    "            self.comparison_df = self.comparison_df.append({\n",
    "                    'Model Name' : model.name, 'pWAIC' : model.n_eff_params,\n",
    "                    'WAIC' : model.waic, 'SE' : model.waic_se  }, ignore_index=True)\n",
    "        \n",
    "        # compute dWAIC\n",
    "        self.comparison_df['dWAIC'] = self.comparison_df['WAIC'] - self.comparison_df['WAIC'].min()\n",
    "        \n",
    "        # helper for weight\n",
    "        self.comparison_df['dWAIC_exp'] = np.exp( -0.5 * self.comparison_df['dWAIC'])\n",
    "        \n",
    "        # compute weight\n",
    "        self.comparison_df['weight'] = self.comparison_df['dWAIC_exp'] / np.sum(self.comparison_df['dWAIC_exp'].sum())\n",
    "                \n",
    "        return self.comparison_df[['Model Name', 'WAIC', 'pWAIC', 'dWAIC', 'weight', 'SE']].round(2)\n",
    "    \n",
    "    \n",
    "    def to_plot(self):\n",
    "        \n",
    "        # they're plotted in reverse order, so sort by WAIC\n",
    "        comparison_df = self.to_df()\n",
    "        \n",
    "        fig, ax = plt.subplots(1, 1, figsize=(10, 1.5))\n",
    "\n",
    "        ax.scatter(comparison_df['WAIC'], comparison_df.index, facecolors='none', edgecolors='k', s=60)\n",
    "        ax.scatter(comparison_df['WAIC'] - comparison_df['pWAIC'] * 2, comparison_df.index, facecolors='k', edgecolors='k', s=20)\n",
    "\n",
    "        ax.hlines(comparison_df.index, comparison_df['WAIC'] - comparison_df['SE'], comparison_df['WAIC'] + comparison_df['SE'] )\n",
    "\n",
    "        ax.set_title('WAIC')\n",
    "        ax.set_xlabel('deviance')\n",
    "\n",
    "        ax.set_yticks([0, 1, 2])\n",
    "        ax.set_yticklabels(comparison_df['Model Name'])\n",
    "\n",
    "        ax.grid();\n",
    "        \n",
    "        return (fig, ax);\n",
    "        "
   ]
  },
  {
   "cell_type": "code",
   "execution_count": 10,
   "metadata": {
    "collapsed": false
   },
   "outputs": [],
   "source": [
    "model_comparator = ModelComparator([\n",
    "        ComparableModel('m101', m101, m101_traces),\n",
    "        ComparableModel('m102', m102, m102_traces),\n",
    "        ComparableModel('m103', m103, m103_traces)])"
   ]
  },
  {
   "cell_type": "code",
   "execution_count": 11,
   "metadata": {
    "collapsed": false
   },
   "outputs": [
    {
     "data": {
      "text/html": [
       "<div>\n",
       "<table border=\"1\" class=\"dataframe\">\n",
       "  <thead>\n",
       "    <tr style=\"text-align: right;\">\n",
       "      <th></th>\n",
       "      <th>Model Name</th>\n",
       "      <th>WAIC</th>\n",
       "      <th>pWAIC</th>\n",
       "      <th>dWAIC</th>\n",
       "      <th>weight</th>\n",
       "      <th>SE</th>\n",
       "    </tr>\n",
       "  </thead>\n",
       "  <tbody>\n",
       "    <tr>\n",
       "      <th>0</th>\n",
       "      <td>m102</td>\n",
       "      <td>680.85</td>\n",
       "      <td>2.18</td>\n",
       "      <td>0.00</td>\n",
       "      <td>0.68</td>\n",
       "      <td>9.26</td>\n",
       "    </tr>\n",
       "    <tr>\n",
       "      <th>1</th>\n",
       "      <td>m103</td>\n",
       "      <td>682.49</td>\n",
       "      <td>3.07</td>\n",
       "      <td>1.64</td>\n",
       "      <td>0.30</td>\n",
       "      <td>9.59</td>\n",
       "    </tr>\n",
       "    <tr>\n",
       "      <th>2</th>\n",
       "      <td>m101</td>\n",
       "      <td>688.16</td>\n",
       "      <td>1.11</td>\n",
       "      <td>7.31</td>\n",
       "      <td>0.02</td>\n",
       "      <td>7.27</td>\n",
       "    </tr>\n",
       "  </tbody>\n",
       "</table>\n",
       "</div>"
      ],
      "text/plain": [
       "  Model Name    WAIC  pWAIC  dWAIC  weight    SE\n",
       "0       m102  680.85   2.18   0.00    0.68  9.26\n",
       "1       m103  682.49   3.07   1.64    0.30  9.59\n",
       "2       m101  688.16   1.11   7.31    0.02  7.27"
      ]
     },
     "execution_count": 11,
     "metadata": {},
     "output_type": "execute_result"
    }
   ],
   "source": [
    "model_comparator.to_df()"
   ]
  },
  {
   "cell_type": "code",
   "execution_count": 12,
   "metadata": {
    "collapsed": false
   },
   "outputs": [
    {
     "data": {
      "image/png": "[encoded data removed]",
      "text/plain": [
       "<matplotlib.figure.Figure at 0x120e4f860>"
      ]
     },
     "metadata": {},
     "output_type": "display_data"
    }
   ],
   "source": [
    "model_comparator.to_plot();"
   ]
  },
  {
   "cell_type": "code",
   "execution_count": 13,
   "metadata": {
    "collapsed": true
   },
   "outputs": [],
   "source": [
    "### I hate the chimp example"
   ]
  },
  {
   "cell_type": "markdown",
   "metadata": {},
   "source": [
    "#### 10.1.3 Aggregate binomial: Graduate school admission"
   ]
  },
  {
   "cell_type": "code",
   "execution_count": 14,
   "metadata": {
    "collapsed": true
   },
   "outputs": [],
   "source": [
    "data = pd.read_csv('./rethinking/data/UCBadmit.csv', sep=';')"
   ]
  },
  {
   "cell_type": "code",
   "execution_count": 15,
   "metadata": {
    "collapsed": false
   },
   "outputs": [
    {
     "data": {
      "text/html": [
       "<div>\n",
       "<table border=\"1\" class=\"dataframe\">\n",
       "  <thead>\n",
       "    <tr style=\"text-align: right;\">\n",
       "      <th></th>\n",
       "      <th>dept</th>\n",
       "      <th>applicant.gender</th>\n",
       "      <th>admit</th>\n",
       "      <th>reject</th>\n",
       "      <th>applications</th>\n",
       "    </tr>\n",
       "  </thead>\n",
       "  <tbody>\n",
       "    <tr>\n",
       "      <th>1</th>\n",
       "      <td>A</td>\n",
       "      <td>male</td>\n",
       "      <td>512</td>\n",
       "      <td>313</td>\n",
       "      <td>825</td>\n",
       "    </tr>\n",
       "    <tr>\n",
       "      <th>2</th>\n",
       "      <td>A</td>\n",
       "      <td>female</td>\n",
       "      <td>89</td>\n",
       "      <td>19</td>\n",
       "      <td>108</td>\n",
       "    </tr>\n",
       "    <tr>\n",
       "      <th>3</th>\n",
       "      <td>B</td>\n",
       "      <td>male</td>\n",
       "      <td>353</td>\n",
       "      <td>207</td>\n",
       "      <td>560</td>\n",
       "    </tr>\n",
       "    <tr>\n",
       "      <th>4</th>\n",
       "      <td>B</td>\n",
       "      <td>female</td>\n",
       "      <td>17</td>\n",
       "      <td>8</td>\n",
       "      <td>25</td>\n",
       "    </tr>\n",
       "    <tr>\n",
       "      <th>5</th>\n",
       "      <td>C</td>\n",
       "      <td>male</td>\n",
       "      <td>120</td>\n",
       "      <td>205</td>\n",
       "      <td>325</td>\n",
       "    </tr>\n",
       "  </tbody>\n",
       "</table>\n",
       "</div>"
      ],
      "text/plain": [
       "  dept applicant.gender  admit  reject  applications\n",
       "1    A             male    512     313           825\n",
       "2    A           female     89      19           108\n",
       "3    B             male    353     207           560\n",
       "4    B           female     17       8            25\n",
       "5    C             male    120     205           325"
      ]
     },
     "execution_count": 15,
     "metadata": {},
     "output_type": "execute_result"
    }
   ],
   "source": [
    "data.head()"
   ]
  },
  {
   "cell_type": "code",
   "execution_count": 16,
   "metadata": {
    "collapsed": true
   },
   "outputs": [],
   "source": [
    "data['is_male'] = (data['applicant.gender'] == 'male').astype(int)"
   ]
  },
  {
   "cell_type": "code",
   "execution_count": 17,
   "metadata": {
    "collapsed": true
   },
   "outputs": [],
   "source": [
    "data['dept_id'] = (data.dept.rank(method='dense') - 1).astype(int)"
   ]
  },
  {
   "cell_type": "code",
   "execution_count": 18,
   "metadata": {
    "collapsed": false
   },
   "outputs": [],
   "source": [
    "data['applications'] = data['applications'].astype(np.int32)"
   ]
  },
  {
   "cell_type": "markdown",
   "metadata": {},
   "source": [
    "Our job is to evaluate whether these data contain evidence of gender bias in admissions. We will model the admission decisions, focusing on applicant gender as a predictor variable. So we want to fit at least two models:\n",
    "\n",
    "1. A binomial regression that models `admit` as a function of each applicant's gender. This will estimate the association between gender and the probability of admission.\n",
    "2. A binomial regression that models `admit` as a constant, ignoring gender. This will allow us to get a sense of any overfitting committed by the first model.\n",
    "---\n",
    "This is what the first model looks like:\n",
    "\n",
    "$$n_{admit, i} \\sim Binomial(n_i, p_i)$$\n",
    "$$logit(p_i) = \\alpha + \\beta m_i$$\n",
    "$$ \\alpha \\sim Normal(0, 10)$$\n",
    "$$ \\beta_m \\sim Normal(0, 10)$$\n",
    "\n",
    "The variable $n_i$ indicates `applications[i]`, the number of applications on row `i` The predictor $m_i$ is a dummy that indicates \"male\"."
   ]
  },
  {
   "cell_type": "code",
   "execution_count": 19,
   "metadata": {
    "collapsed": false,
    "scrolled": false
   },
   "outputs": [
    {
     "name": "stderr",
     "output_type": "stream",
     "text": [
      "100%|██████████| 10000/10000 [00:05<00:00, 1698.65it/s]\n",
      "100%|██████████| 10000/10000 [00:02<00:00, 3974.00it/s]\n"
     ]
    }
   ],
   "source": [
    "with pm.Model() as m106:\n",
    "    \n",
    "    alpha = pm.Normal('alpha', 0, 10)\n",
    "    beta_m = pm.Normal('beta_m', 0, 10)\n",
    "    \n",
    "    lin = alpha + beta_m * data['is_male']\n",
    "    p = np.exp(lin) / (1 + np.exp(lin))\n",
    "    \n",
    "    admit = pm.Binomial('admit', n=data['applications'].values, p=p, observed=data['admit'])\n",
    "        \n",
    "    m106_map = pm.find_MAP()\n",
    "    m106_traces = pm.sample(10000, start=m106_map)\n",
    "    \n",
    "    \n",
    "with pm.Model() as m107:\n",
    "    \n",
    "    alpha = pm.Normal('alpha', 0, 10)\n",
    "    \n",
    "    lin = alpha\n",
    "    p = np.exp(lin) / (1 + np.exp(lin))\n",
    "    \n",
    "    admit = pm.Binomial('admit', n=data['applications'].values, p=p, observed=data['admit'])\n",
    "        \n",
    "    m107_map = pm.find_MAP()\n",
    "    m107_traces = pm.sample(10000, start=m107_map)"
   ]
  },
  {
   "cell_type": "code",
   "execution_count": 20,
   "metadata": {
    "collapsed": false
   },
   "outputs": [
    {
     "name": "stderr",
     "output_type": "stream",
     "text": [
      "/Users/horatiu/anaconda/lib/python3.5/site-packages/pymc3/stats.py:178: UserWarning: For one or more samples the posterior variance of the\n",
      "        log predictive densities exceeds 0.4. This could be indication of\n",
      "        WAIC starting to fail see http://arxiv.org/abs/1507.04544 for details\n",
      "        \n",
      "  \"\"\")\n",
      "/Users/horatiu/anaconda/lib/python3.5/site-packages/pymc3/stats.py:178: UserWarning: For one or more samples the posterior variance of the\n",
      "        log predictive densities exceeds 0.4. This could be indication of\n",
      "        WAIC starting to fail see http://arxiv.org/abs/1507.04544 for details\n",
      "        \n",
      "  \"\"\")\n"
     ]
    }
   ],
   "source": [
    "model_comparator = ModelComparator([\n",
    "        ComparableModel('m106', m106, m106_traces),\n",
    "        ComparableModel('m107', m107, m107_traces)])"
   ]
  },
  {
   "cell_type": "code",
   "execution_count": 21,
   "metadata": {
    "collapsed": false
   },
   "outputs": [
    {
     "data": {
      "text/html": [
       "<div>\n",
       "<table border=\"1\" class=\"dataframe\">\n",
       "  <thead>\n",
       "    <tr style=\"text-align: right;\">\n",
       "      <th></th>\n",
       "      <th>Model Name</th>\n",
       "      <th>WAIC</th>\n",
       "      <th>pWAIC</th>\n",
       "      <th>dWAIC</th>\n",
       "      <th>weight</th>\n",
       "      <th>SE</th>\n",
       "    </tr>\n",
       "  </thead>\n",
       "  <tbody>\n",
       "    <tr>\n",
       "      <th>0</th>\n",
       "      <td>m106</td>\n",
       "      <td>994.67</td>\n",
       "      <td>116.17</td>\n",
       "      <td>0.0</td>\n",
       "      <td>1.0</td>\n",
       "      <td>315.36</td>\n",
       "    </tr>\n",
       "    <tr>\n",
       "      <th>1</th>\n",
       "      <td>m107</td>\n",
       "      <td>1034.77</td>\n",
       "      <td>80.11</td>\n",
       "      <td>40.1</td>\n",
       "      <td>0.0</td>\n",
       "      <td>309.39</td>\n",
       "    </tr>\n",
       "  </tbody>\n",
       "</table>\n",
       "</div>"
      ],
      "text/plain": [
       "  Model Name     WAIC   pWAIC  dWAIC  weight      SE\n",
       "0       m106   994.67  116.17    0.0     1.0  315.36\n",
       "1       m107  1034.77   80.11   40.1     0.0  309.39"
      ]
     },
     "execution_count": 21,
     "metadata": {},
     "output_type": "execute_result"
    }
   ],
   "source": [
    "model_comparator.to_df()"
   ]
  },
  {
   "cell_type": "code",
   "execution_count": 22,
   "metadata": {
    "collapsed": true
   },
   "outputs": [],
   "source": [
    "m106_traces_df = pm.trace_to_dataframe(m106_traces)\n",
    "m107_traces_df = pm.trace_to_dataframe(m107_traces)"
   ]
  },
  {
   "cell_type": "code",
   "execution_count": 23,
   "metadata": {
    "collapsed": false
   },
   "outputs": [
    {
     "data": {
      "text/html": [
       "<div>\n",
       "<table border=\"1\" class=\"dataframe\">\n",
       "  <thead>\n",
       "    <tr style=\"text-align: right;\">\n",
       "      <th></th>\n",
       "      <th>alpha</th>\n",
       "      <th>beta_m</th>\n",
       "    </tr>\n",
       "  </thead>\n",
       "  <tbody>\n",
       "    <tr>\n",
       "      <th>0</th>\n",
       "      <td>-0.879437</td>\n",
       "      <td>0.694930</td>\n",
       "    </tr>\n",
       "    <tr>\n",
       "      <th>1</th>\n",
       "      <td>-0.879437</td>\n",
       "      <td>0.694930</td>\n",
       "    </tr>\n",
       "    <tr>\n",
       "      <th>2</th>\n",
       "      <td>-0.787371</td>\n",
       "      <td>0.586264</td>\n",
       "    </tr>\n",
       "    <tr>\n",
       "      <th>3</th>\n",
       "      <td>-0.953573</td>\n",
       "      <td>0.762096</td>\n",
       "    </tr>\n",
       "    <tr>\n",
       "      <th>4</th>\n",
       "      <td>-0.988030</td>\n",
       "      <td>0.720946</td>\n",
       "    </tr>\n",
       "  </tbody>\n",
       "</table>\n",
       "</div>"
      ],
      "text/plain": [
       "      alpha    beta_m\n",
       "0 -0.879437  0.694930\n",
       "1 -0.879437  0.694930\n",
       "2 -0.787371  0.586264\n",
       "3 -0.953573  0.762096\n",
       "4 -0.988030  0.720946"
      ]
     },
     "execution_count": 23,
     "metadata": {},
     "output_type": "execute_result"
    }
   ],
   "source": [
    "m106_traces_df.head()"
   ]
  },
  {
   "cell_type": "code",
   "execution_count": 24,
   "metadata": {
    "collapsed": false
   },
   "outputs": [
    {
     "data": {
      "text/plain": [
       "0.025    0.112786\n",
       "0.500    0.141444\n",
       "0.975    0.170436\n",
       "dtype: float64"
      ]
     },
     "execution_count": 24,
     "metadata": {},
     "output_type": "execute_result"
    }
   ],
   "source": [
    "p_admit_male = m106_traces_df.apply(lambda row: row['alpha'] + row['beta_m'], axis=1)\n",
    "p_admit_female = m106_traces_df.apply(lambda row: row['alpha'], axis=1)\n",
    "\n",
    "p_admit_male = p_admit_male.apply(lambda x: np.exp(x) / (1 + np.exp(x)))\n",
    "p_admit_female = p_admit_female.apply(lambda x: np.exp(x) / (1 + np.exp(x)))\n",
    "\n",
    "diff_admit = p_admit_male - p_admit_female\n",
    "\n",
    "#\n",
    "# The difference in the probability of admission is\n",
    "#\n",
    "\n",
    "diff_admit.quantile([0.025, 0.5, 0.975])"
   ]
  },
  {
   "cell_type": "code",
   "execution_count": 25,
   "metadata": {
    "collapsed": false
   },
   "outputs": [
    {
     "data": {
      "image/png": "[encoded data removed]",
      "text/plain": [
       "<matplotlib.figure.Figure at 0x11f6f6748>"
      ]
     },
     "metadata": {},
     "output_type": "display_data"
    }
   ],
   "source": [
    "fig, ax = plt.subplots(1, 1, figsize=(4,3))\n",
    "\n",
    "# diff_admit.plot(ax=ax, kind='kde')\n",
    "diff_admit.plot(ax=ax, kind='kde')\n",
    "ax.grid();"
   ]
  },
  {
   "cell_type": "code",
   "execution_count": 26,
   "metadata": {
    "collapsed": false
   },
   "outputs": [],
   "source": [
    "post = m106_traces_df.apply(lambda row: row['alpha'] + row['beta_m'] * data['is_male'], axis=1)\n",
    "post = post.apply(lambda x: np.exp(x) / (1 + np.exp(x)))"
   ]
  },
  {
   "cell_type": "code",
   "execution_count": 27,
   "metadata": {
    "collapsed": false
   },
   "outputs": [],
   "source": [
    "quantiles = post.quantile([0.05, 0.975])"
   ]
  },
  {
   "cell_type": "code",
   "execution_count": 28,
   "metadata": {
    "collapsed": false
   },
   "outputs": [
    {
     "data": {
      "text/html": [
       "<div>\n",
       "<table border=\"1\" class=\"dataframe\">\n",
       "  <thead>\n",
       "    <tr style=\"text-align: right;\">\n",
       "      <th></th>\n",
       "      <th>1</th>\n",
       "      <th>2</th>\n",
       "      <th>3</th>\n",
       "      <th>4</th>\n",
       "      <th>5</th>\n",
       "      <th>6</th>\n",
       "      <th>7</th>\n",
       "      <th>8</th>\n",
       "      <th>9</th>\n",
       "      <th>10</th>\n",
       "      <th>11</th>\n",
       "      <th>12</th>\n",
       "    </tr>\n",
       "  </thead>\n",
       "  <tbody>\n",
       "    <tr>\n",
       "      <th>0.050</th>\n",
       "      <td>0.429676</td>\n",
       "      <td>0.285294</td>\n",
       "      <td>0.429676</td>\n",
       "      <td>0.285294</td>\n",
       "      <td>0.429676</td>\n",
       "      <td>0.285294</td>\n",
       "      <td>0.429676</td>\n",
       "      <td>0.285294</td>\n",
       "      <td>0.429676</td>\n",
       "      <td>0.285294</td>\n",
       "      <td>0.429676</td>\n",
       "      <td>0.285294</td>\n",
       "    </tr>\n",
       "    <tr>\n",
       "      <th>0.975</th>\n",
       "      <td>0.464330</td>\n",
       "      <td>0.325570</td>\n",
       "      <td>0.464330</td>\n",
       "      <td>0.325570</td>\n",
       "      <td>0.464330</td>\n",
       "      <td>0.325570</td>\n",
       "      <td>0.464330</td>\n",
       "      <td>0.325570</td>\n",
       "      <td>0.464330</td>\n",
       "      <td>0.325570</td>\n",
       "      <td>0.464330</td>\n",
       "      <td>0.325570</td>\n",
       "    </tr>\n",
       "  </tbody>\n",
       "</table>\n",
       "</div>"
      ],
      "text/plain": [
       "             1         2         3         4         5         6         7   \\\n",
       "0.050  0.429676  0.285294  0.429676  0.285294  0.429676  0.285294  0.429676   \n",
       "0.975  0.464330  0.325570  0.464330  0.325570  0.464330  0.325570  0.464330   \n",
       "\n",
       "             8         9         10        11        12  \n",
       "0.050  0.285294  0.429676  0.285294  0.429676  0.285294  \n",
       "0.975  0.325570  0.464330  0.325570  0.464330  0.325570  "
      ]
     },
     "execution_count": 28,
     "metadata": {},
     "output_type": "execute_result"
    }
   ],
   "source": [
    "quantiles"
   ]
  },
  {
   "cell_type": "code",
   "execution_count": 29,
   "metadata": {
    "collapsed": false
   },
   "outputs": [
    {
     "data": {
      "image/png": "[encoded data removed]",
      "text/plain": [
       "<matplotlib.figure.Figure at 0x1229d0048>"
      ]
     },
     "metadata": {},
     "output_type": "display_data"
    }
   ],
   "source": [
    "fig, ax = plt.subplots(1, 1, figsize=(6, 4))\n",
    "\n",
    "real_acceptance = data['admit'] / data['applications']\n",
    "\n",
    "ax.scatter(real_acceptance.index, real_acceptance.values)\n",
    "\n",
    "ax.vlines(real_acceptance.index, ymin=quantiles.iloc[0, :], ymax=quantiles.iloc[1, :])\n",
    "\n",
    "ax.grid();"
   ]
  },
  {
   "cell_type": "code",
   "execution_count": 30,
   "metadata": {
    "collapsed": false
   },
   "outputs": [
    {
     "name": "stderr",
     "output_type": "stream",
     "text": [
      "100%|██████████| 1000/1000 [00:01<00:00, 796.81it/s]\n"
     ]
    }
   ],
   "source": [
    "with pm.Model() as m108:\n",
    "    \n",
    "    alphas = pm.Normal('alphas', 0, 10, shape=6)\n",
    "    beta_m = pm.Normal('beta_m', 0, 10)\n",
    "    \n",
    "    lin = alphas[data['dept_id']] + beta_m * data['is_male']\n",
    "    p = np.exp(lin) / (1 + np.exp(lin))\n",
    "    \n",
    "    admit = pm.Binomial('admit', n=data['applications'].values, p=p, observed=data['admit'])\n",
    "        \n",
    "    m108_map = pm.find_MAP()\n",
    "    m108_traces = pm.sample(1000, start=m108_map)"
   ]
  },
  {
   "cell_type": "code",
   "execution_count": 31,
   "metadata": {
    "collapsed": false
   },
   "outputs": [
    {
     "name": "stdout",
     "output_type": "stream",
     "text": [
      "\n",
      "alphas:\n",
      "\n",
      "  Mean             SD               MC Error         95% HPD interval\n",
      "  -------------------------------------------------------------------\n",
      "  \n",
      "  0.687            0.098            0.004            [0.496, 0.873]\n",
      "  0.649            0.112            0.004            [0.437, 0.881]\n",
      "  -0.580           0.073            0.002            [-0.726, -0.445]\n",
      "  -0.608           0.088            0.003            [-0.777, -0.437]\n",
      "  -1.060           0.103            0.003            [-1.252, -0.845]\n",
      "  -2.624           0.152            0.007            [-2.916, -2.351]\n",
      "\n",
      "  Posterior quantiles:\n",
      "  2.5            25             50             75             97.5\n",
      "  |--------------|==============|==============|--------------|\n",
      "  \n",
      "  0.506          0.620          0.685          0.753          0.888\n",
      "  0.433          0.580          0.646          0.721          0.879\n",
      "  -0.721         -0.633         -0.576         -0.530         -0.428\n",
      "  -0.777         -0.667         -0.606         -0.552         -0.437\n",
      "  -1.261         -1.126         -1.062         -0.992         -0.851\n",
      "  -2.925         -2.724         -2.633         -2.510         -2.354\n",
      "\n",
      "\n",
      "beta_m:\n",
      "\n",
      "  Mean             SD               MC Error         95% HPD interval\n",
      "  -------------------------------------------------------------------\n",
      "  \n",
      "  -0.109           0.080            0.004            [-0.257, 0.055]\n",
      "\n",
      "  Posterior quantiles:\n",
      "  2.5            25             50             75             97.5\n",
      "  |--------------|==============|==============|--------------|\n",
      "  \n",
      "  -0.270         -0.162         -0.109         -0.058         0.050\n",
      "\n"
     ]
    }
   ],
   "source": [
    "pm.summary(m108_traces)"
   ]
  },
  {
   "cell_type": "code",
   "execution_count": 32,
   "metadata": {
    "collapsed": true
   },
   "outputs": [],
   "source": [
    "m108_traces_df = pm.trace_to_dataframe(m108_traces)"
   ]
  },
  {
   "cell_type": "code",
   "execution_count": 33,
   "metadata": {
    "collapsed": false
   },
   "outputs": [],
   "source": [
    "m108_quantiles = m108_traces_df.quantile([0.025, 0.5, 0.975])"
   ]
  },
  {
   "cell_type": "code",
   "execution_count": 34,
   "metadata": {
    "collapsed": false
   },
   "outputs": [
    {
     "data": {
      "text/html": [
       "<div>\n",
       "<table border=\"1\" class=\"dataframe\">\n",
       "  <thead>\n",
       "    <tr style=\"text-align: right;\">\n",
       "      <th></th>\n",
       "      <th>alphas__0</th>\n",
       "      <th>alphas__1</th>\n",
       "      <th>alphas__2</th>\n",
       "      <th>alphas__3</th>\n",
       "      <th>alphas__4</th>\n",
       "      <th>alphas__5</th>\n",
       "      <th>beta_m</th>\n",
       "    </tr>\n",
       "  </thead>\n",
       "  <tbody>\n",
       "    <tr>\n",
       "      <th>0.025</th>\n",
       "      <td>0.505806</td>\n",
       "      <td>0.433363</td>\n",
       "      <td>-0.721414</td>\n",
       "      <td>-0.777186</td>\n",
       "      <td>-1.261313</td>\n",
       "      <td>-2.925237</td>\n",
       "      <td>-0.269922</td>\n",
       "    </tr>\n",
       "    <tr>\n",
       "      <th>0.500</th>\n",
       "      <td>0.685313</td>\n",
       "      <td>0.645970</td>\n",
       "      <td>-0.575914</td>\n",
       "      <td>-0.606222</td>\n",
       "      <td>-1.061942</td>\n",
       "      <td>-2.632821</td>\n",
       "      <td>-0.109100</td>\n",
       "    </tr>\n",
       "    <tr>\n",
       "      <th>0.975</th>\n",
       "      <td>0.887086</td>\n",
       "      <td>0.878526</td>\n",
       "      <td>-0.435654</td>\n",
       "      <td>-0.437914</td>\n",
       "      <td>-0.851461</td>\n",
       "      <td>-2.354369</td>\n",
       "      <td>0.049703</td>\n",
       "    </tr>\n",
       "  </tbody>\n",
       "</table>\n",
       "</div>"
      ],
      "text/plain": [
       "       alphas__0  alphas__1  alphas__2  alphas__3  alphas__4  alphas__5  \\\n",
       "0.025   0.505806   0.433363  -0.721414  -0.777186  -1.261313  -2.925237   \n",
       "0.500   0.685313   0.645970  -0.575914  -0.606222  -1.061942  -2.632821   \n",
       "0.975   0.887086   0.878526  -0.435654  -0.437914  -0.851461  -2.354369   \n",
       "\n",
       "         beta_m  \n",
       "0.025 -0.269922  \n",
       "0.500 -0.109100  \n",
       "0.975  0.049703  "
      ]
     },
     "execution_count": 34,
     "metadata": {},
     "output_type": "execute_result"
    }
   ],
   "source": [
    "m108_quantiles.head()"
   ]
  },
  {
   "cell_type": "code",
   "execution_count": 35,
   "metadata": {
    "collapsed": false
   },
   "outputs": [],
   "source": [
    "# model_comparator = ModelComparator([\n",
    "#         ComparableModel('m106', m106, m106_traces),\n",
    "#         ComparableModel('m107', m107, m107_traces), \n",
    "#         ComparableModel('m108', m108, m108_traces)])"
   ]
  },
  {
   "cell_type": "code",
   "execution_count": 36,
   "metadata": {
    "collapsed": false
   },
   "outputs": [],
   "source": [
    "post = data.apply(lambda row: row['is_male'] * m108_quantiles['beta_m'] + m108_quantiles['alphas__%d' % row['dept_id']], axis=1)\n",
    "post = post.applymap(lambda x: np.exp(x) / (1 + np.exp(x)))"
   ]
  },
  {
   "cell_type": "code",
   "execution_count": 37,
   "metadata": {
    "collapsed": false
   },
   "outputs": [
    {
     "data": {
      "image/png": "[encoded data removed]",
      "text/plain": [
       "<matplotlib.figure.Figure at 0x1282a5a90>"
      ]
     },
     "metadata": {},
     "output_type": "display_data"
    }
   ],
   "source": [
    "fig, ax = plt.subplots(1, 1, figsize=(6, 4))\n",
    "\n",
    "real_acceptance = data['admit'] / data['applications']\n",
    "\n",
    "ax.scatter(real_acceptance.index, real_acceptance.values)\n",
    "ax.vlines(post.index, post.iloc[:,0], post.iloc[:,2])\n",
    "\n",
    "\n",
    "ax.set_xlim([0, 13]);\n",
    "ax.grid();"
   ]
  },
  {
   "cell_type": "markdown",
   "metadata": {
    "collapsed": true
   },
   "source": [
    "### 10.2 Poisson regression"
   ]
  },
  {
   "cell_type": "code",
   "execution_count": 38,
   "metadata": {
    "collapsed": true
   },
   "outputs": [],
   "source": [
    "d = pd.read_csv('./rethinking/data/Kline.csv', sep=';')\n",
    "\n",
    "d['log_pop'] = np.log(d['population'])\n",
    "d[['contact_high', 'contact_low']] = pd.get_dummies(d['contact'])\n"
   ]
  },
  {
   "cell_type": "code",
   "execution_count": 40,
   "metadata": {
    "collapsed": false
   },
   "outputs": [
    {
     "name": "stderr",
     "output_type": "stream",
     "text": [
      "100%|██████████| 1000/1000 [00:03<00:00, 299.12it/s]\n"
     ]
    }
   ],
   "source": [
    "with pm.Model() as m1010:\n",
    "    \n",
    "    alpha = pm.Normal('alpha', mu=0, sd=100)\n",
    "    beta_p = pm.Normal('beta_p', mu=0, sd=1)\n",
    "    beta_c = pm.Normal('beta_c', mu=0, sd=1)\n",
    "    beta_pc = pm.Normal('beta_pc', mu=0, sd=1)\n",
    "    \n",
    "    lambda_ = np.exp(alpha\n",
    "                     + beta_p * d['log_pop']\n",
    "                     + beta_c * d['contact_high']\n",
    "                     + beta_pc * d['log_pop'] * d['contact_high'])\n",
    "                     \n",
    "    tools = pm.Poisson('tools', mu=lambda_, observed=d['total_tools'])\n",
    "    \n",
    "    m1010_map = pm.find_MAP()\n",
    "    m1010_traces = pm.sample(1000, start=m1010_map)"
   ]
  },
  {
   "cell_type": "code",
   "execution_count": 41,
   "metadata": {
    "collapsed": false
   },
   "outputs": [
    {
     "data": {
      "image/png": "[encoded data removed]",
      "text/plain": [
       "<matplotlib.figure.Figure at 0x124d8ceb8>"
      ]
     },
     "metadata": {},
     "output_type": "display_data"
    }
   ],
   "source": [
    "pm.traceplot(m1010_traces);"
   ]
  },
  {
   "cell_type": "code",
   "execution_count": 42,
   "metadata": {
    "collapsed": false
   },
   "outputs": [
    {
     "name": "stdout",
     "output_type": "stream",
     "text": [
      "\n",
      "alpha:\n",
      "\n",
      "  Mean             SD               MC Error         95% HPD interval\n",
      "  -------------------------------------------------------------------\n",
      "  \n",
      "  0.947            0.386            0.019            [0.196, 1.686]\n",
      "\n",
      "  Posterior quantiles:\n",
      "  2.5            25             50             75             97.5\n",
      "  |--------------|==============|==============|--------------|\n",
      "  \n",
      "  0.155          0.709          0.969          1.200          1.650\n",
      "\n",
      "\n",
      "beta_p:\n",
      "\n",
      "  Mean             SD               MC Error         95% HPD interval\n",
      "  -------------------------------------------------------------------\n",
      "  \n",
      "  0.263            0.037            0.002            [0.196, 0.341]\n",
      "\n",
      "  Posterior quantiles:\n",
      "  2.5            25             50             75             97.5\n",
      "  |--------------|==============|==============|--------------|\n",
      "  \n",
      "  0.194          0.238          0.262          0.286          0.340\n",
      "\n",
      "\n",
      "beta_c:\n",
      "\n",
      "  Mean             SD               MC Error         95% HPD interval\n",
      "  -------------------------------------------------------------------\n",
      "  \n",
      "  -0.139           0.783            0.050            [-1.479, 1.291]\n",
      "\n",
      "  Posterior quantiles:\n",
      "  2.5            25             50             75             97.5\n",
      "  |--------------|==============|==============|--------------|\n",
      "  \n",
      "  -1.552         -0.709         -0.134         0.468          1.266\n",
      "\n",
      "\n",
      "beta_pc:\n",
      "\n",
      "  Mean             SD               MC Error         95% HPD interval\n",
      "  -------------------------------------------------------------------\n",
      "  \n",
      "  0.048            0.086            0.005            [-0.119, 0.193]\n",
      "\n",
      "  Posterior quantiles:\n",
      "  2.5            25             50             75             97.5\n",
      "  |--------------|==============|==============|--------------|\n",
      "  \n",
      "  -0.108         -0.018         0.051          0.111          0.213\n",
      "\n"
     ]
    }
   ],
   "source": [
    "pm.summary(m1010_traces)"
   ]
  },
  {
   "cell_type": "code",
   "execution_count": 43,
   "metadata": {
    "collapsed": true
   },
   "outputs": [],
   "source": [
    "m1010_traces_df = pm.trace_to_dataframe(m1010_traces)"
   ]
  },
  {
   "cell_type": "code",
   "execution_count": 44,
   "metadata": {
    "collapsed": true
   },
   "outputs": [],
   "source": [
    "def traces_to_dotplot(traces_df):\n",
    "    fig, ax = plt.subplots(1,1, figsize=(6, 1.5))\n",
    "\n",
    "    param_qs = traces_df.quantile([0.055, 0.5, 0.945])\n",
    "\n",
    "    for index, col in enumerate(param_qs.columns):\n",
    "        col_qs = param_qs[col]\n",
    "        ax.scatter(col_qs.median(), index)\n",
    "        ax.hlines(index, col_qs.min(), col_qs.max())\n",
    "\n",
    "    ax.set_yticks(range(len(param_qs.columns)))\n",
    "    ax.set_yticklabels(param_qs.columns)\n",
    "    ax.grid();\n",
    "    \n",
    "    return (fig, ax)"
   ]
  },
  {
   "cell_type": "code",
   "execution_count": 45,
   "metadata": {
    "collapsed": false
   },
   "outputs": [
    {
     "data": {
      "image/png": "[encoded data removed]",
      "text/plain": [
       "<matplotlib.figure.Figure at 0x12a6add30>"
      ]
     },
     "metadata": {},
     "output_type": "display_data"
    }
   ],
   "source": [
    "traces_to_dotplot(m1010_traces_df);"
   ]
  },
  {
   "cell_type": "code",
   "execution_count": 46,
   "metadata": {
    "collapsed": false
   },
   "outputs": [
    {
     "data": {
      "text/plain": [
       "True     0.956\n",
       "False    0.044\n",
       "dtype: float64"
      ]
     },
     "execution_count": 46,
     "metadata": {},
     "output_type": "execute_result"
    }
   ],
   "source": [
    "cfact_log_pop = 8 \n",
    "\n",
    "lambda_high = m1010_traces_df.apply(\n",
    "    lambda row: row['alpha'] + row['beta_p'] * cfact_log_pop + row['beta_c'] + row['beta_pc'] * cfact_log_pop, axis=1)\n",
    "\n",
    "lambda_low = m1010_traces_df.apply(\n",
    "    lambda row: row['alpha'] + row['beta_p'] * cfact_log_pop, axis=1)\n",
    "\n",
    "lambda_high = np.exp(lambda_high)\n",
    "lambda_low = np.exp(lambda_low)\n",
    "\n",
    "lambda_diff = lambda_high - lambda_low\n",
    "(lambda_diff > 0).value_counts(normalize=True)"
   ]
  },
  {
   "cell_type": "markdown",
   "metadata": {},
   "source": [
    "There is a 96% plausibility that a high contact island has more tools than a low contact island.\n",
    "\n",
    "You can't just inspect the marginal uncertainty in each parameter, which is what is shown in the table of estimates,\n",
    "and get an accurate understanding of the impact of the joint uncertainty on prediction -- the correlation between beta_c and beta_pc is strongly negative, so when beta_c is small, beta_pc is large = inspecting just one parameter (beta_c) doesn't explain the joint impact of parameters on prediction.\n",
    "\n",
    "A better way to assess whether a predictor is expected to improve prediction is to use **model comparisons**."
   ]
  },
  {
   "cell_type": "code",
   "execution_count": null,
   "metadata": {
    "collapsed": true
   },
   "outputs": [],
   "source": []
  }
 ],
 "metadata": {
  "kernelspec": {
   "display_name": "Python 3",
   "language": "python",
   "name": "python3"
  },
  "language_info": {
   "codemirror_mode": {
    "name": "ipython",
    "version": 3
   },
   "file_extension": ".py",
   "mimetype": "text/x-python",
   "name": "python",
   "nbconvert_exporter": "python",
   "pygments_lexer": "ipython3",
   "version": "3.5.2"
  }
 },
 "nbformat": 4,
 "nbformat_minor": 0
}
